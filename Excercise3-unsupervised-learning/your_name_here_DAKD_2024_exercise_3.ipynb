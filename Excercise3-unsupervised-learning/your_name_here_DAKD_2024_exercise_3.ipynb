{
 "cells": [
  {
   "cell_type": "markdown",
   "metadata": {},
   "source": [
    "<div class=\"alert alert-block\" style=\"color: skyblue\">\n",
    "    <h1><center> DAKD 2024 EXERCISE 3: UNSUPERVISED LEARNING  </center></h1>"
   ]
  },
  {
   "cell_type": "markdown",
   "metadata": {},
   "source": [
    "### <font color = skyblue> *** FILL YOUR INFORMATION BELOW *** </font>\n",
    "(Name) <br>\n",
    "(Student number) <br>\n",
    "(UTU email)  <br>\n",
    "(Date)  <br>"
   ]
  },
  {
   "cell_type": "markdown",
   "metadata": {},
   "source": [
    "___\n",
    "#### General Guidance for Exercises\n",
    "\n",
    "- **Complete all tasks**: Make sure to answer all questions, even if you cannot get your script to fully work.\n",
    "- **Code clarity**: Write clear and readable code. Include comments to explain what your code does.\n",
    "- **Effective visualizations**: Ensure all plots have labeled axes, legends, and captions. Your visualizations should clearly represent the underlying data.\n",
    "- **Notebook organization**: You can add more code or markdown cells to improve the structure of your notebook as long as it maintains a logical flow.\n",
    "- **Submission**: Submit both the `.ipynb` and `.html` or `.pdf` versions of your notebook. Before finalizing your notebook, use the \"Restart & Run All\" feature to ensure it runs correctly.\n",
    "- **Grading criteria**:\n",
    "    - The grading scale is *Fail/Pass/Pass with honors* (+1).\n",
    "    - To pass, you must complete the required parts 0-3.\n",
    "    - To achieve *Pass with honors*, complete the bonus exercises.\n",
    "- **Technical issues**:\n",
    "    - If you encounter problems, start with an online search to find solutions but do not simply copy and paste code. Understand any code you use and integrate it appropriately.\n",
    "    - Cite all external sources used, whether for code or explanations.\n",
    "    - If problems persist, ask for help in the course discussion forum, at exercise sessions, or via email at konsta.k.nyman@utu.fi or antti.s.vasankari@utu.fi.\n",
    "- **Use of AI and large language models**:\n",
    "    - We do not encourage the use of AI tools like ChatGPT. If you use them, critically evaluate their outputs.\n",
    "    - Describe how you used the AI tools in your work, including your input and how the output was beneficial.\n",
    "- **Time management**: Do not leave your work until the last moment. No feedback will be available during weekends.\n",
    "\n",
    "**Additional Notes**:\n",
    "- You can find the specific deadlines and session times for each assignment on the Moodle course page.\n",
    "- Ensure all your answers are concise—typically a few sentences per question.\n",
    "- Your .ipynb notebook is expected to be run to completion, which means that it should execute without errors when all cells are run in sequence.\n",
    "<br><br>\n",
    "___"
   ]
  },
  {
   "cell_type": "markdown",
   "metadata": {},
   "source": [
    "#### Exercise instructions\n",
    "\n",
    "This is the template for the third exercise. The purpose of this exercise is to familiarize yourself with the basics of unsupervised learning by using the agglomerative hierarchical clustering and k-means clustering algorithms to find patterns.\n",
    "\n",
    "This exercise uses the seeds dataset, available on moodle as `seeds.csv`. The features are all numeric. They quantify the measurements related to the geometrical properties of wheat grains. The feature names are listed in the table below.\n",
    "\n",
    "| Feature | Type \n",
    "| :--- | ---: \n",
    "| Area | Numeric (float)\n",
    "| Perimeter | Numeric (float)\n",
    "| Compactness | Numeric (float)\n",
    "| Length | Numeric (float)\n",
    "| Width | Numeric (float)\n",
    "| Asymmetry Coefficient | Numeric (float)\n",
    "| Length Groove | Numeric (float)\n",
    "\n",
    "<br>\n",
    "\n",
    "\n",
    "In real applications, visualizing various aspects of the data the data and data scrubbing are important steps. However, in this exercise you can treat the data as given, and focus on the unsupervised methods. **REMEMBER, this step can never be neglected in the real world.** <br><br>\n",
    "___"
   ]
  },
  {
   "cell_type": "markdown",
   "metadata": {},
   "source": [
    "#### Library imports, Jupyter Notebook settings etc."
   ]
  },
  {
   "cell_type": "markdown",
   "metadata": {},
   "source": [
    "The below libraries are sufficient to complete the exercise. You can import additional modules here if you want."
   ]
  },
  {
   "cell_type": "code",
   "execution_count": 3,
   "metadata": {},
   "outputs": [],
   "source": [
    "import itertools # has some utilities that may be useful in the exercise\n",
    "\n",
    "import numpy as np\n",
    "import pandas as pd\n",
    "import matplotlib.pyplot as plt\n",
    "from matplotlib.patches import Ellipse\n",
    "from sklearn.preprocessing import StandardScaler\n",
    "from sklearn.decomposition import PCA\n",
    "from sklearn.cluster import AgglomerativeClustering, KMeans\n",
    "from sklearn.metrics import silhouette_score, adjusted_rand_score\n",
    "from sklearn.decomposition import PCA\n",
    "\n",
    "# IPython magic command to display matplotlib figures together with the output\n",
    "# (Often the default setting in a Jupyter Notebook context, so your figures probably work fine without it)\n",
    "%matplotlib inline"
   ]
  },
  {
   "cell_type": "markdown",
   "metadata": {},
   "source": [
    "### Part 0: Read the data\n",
    "\n",
    "- Download the exercise 3 data on the **Moodle** page of this course. (`seeds.csv`)\n",
    "- Read the data into a Pandas dataframe.\n",
    "- Display a few rows and some basic information to make sure the data was loaded correctly"
   ]
  },
  {
   "cell_type": "code",
   "execution_count": null,
   "metadata": {},
   "outputs": [
    {
     "name": "stdout",
     "output_type": "stream",
     "text": [
      "\n",
      "Data head:\n",
      "     area  perimeter  compactness  length  width  asymmetry_coef  length_groove\n",
      "0  18.45      16.12       0.8921   6.107  3.769           2.235          5.794\n",
      "1  11.41      12.95       0.8560   5.090  2.775           4.957          4.825\n",
      "2  10.79      12.93       0.8107   5.317  2.648           5.462          5.194\n",
      "3  18.14      16.12       0.8772   6.059  3.563           3.619          6.011\n",
      "4  15.38      14.90       0.8706   5.884  3.268           4.462          5.795\n",
      "\n",
      "Data shape:\n",
      " (210, 7)\n",
      "\n",
      "Data describe:\n",
      "              area   perimeter  compactness      length       width  \\\n",
      "count  210.000000  210.000000   210.000000  210.000000  210.000000   \n",
      "mean    14.847524   14.559286     0.870999    5.628533    3.258605   \n",
      "std      2.909699    1.305959     0.023629    0.443063    0.377714   \n",
      "min     10.590000   12.410000     0.808100    4.899000    2.630000   \n",
      "25%     12.270000   13.450000     0.856900    5.262250    2.944000   \n",
      "50%     14.355000   14.320000     0.873450    5.523500    3.237000   \n",
      "75%     17.305000   15.715000     0.887775    5.979750    3.561750   \n",
      "max     21.180000   17.250000     0.918300    6.675000    4.033000   \n",
      "\n",
      "       asymmetry_coef  length_groove  \n",
      "count      210.000000     210.000000  \n",
      "mean         3.700201       5.408071  \n",
      "std          1.503557       0.491480  \n",
      "min          0.765100       4.519000  \n",
      "25%          2.561500       5.045000  \n",
      "50%          3.599000       5.223000  \n",
      "75%          4.768750       5.877000  \n",
      "max          8.456000       6.550000  \n"
     ]
    },
    {
     "ename": "",
     "evalue": "",
     "output_type": "error",
     "traceback": [
      "\u001b[1;31mThe Kernel crashed while executing code in the current cell or a previous cell. \n",
      "\u001b[1;31mPlease review the code in the cell(s) to identify a possible cause of the failure. \n",
      "\u001b[1;31mClick <a href='https://aka.ms/vscodeJupyterKernelCrash'>here</a> for more info. \n",
      "\u001b[1;31mView Jupyter <a href='command:jupyter.viewOutput'>log</a> for further details."
     ]
    }
   ],
   "source": [
    "# YOUR CODE\n",
    "data = pd.read_csv('seeds.csv')\n",
    "print(\"\\nData head:\\n\", data.head(5))\n",
    "print(\"\\nData shape:\\n\", data.shape)\n",
    "print(\"\\nData describe:\\n\",data.describe())"
   ]
  },
  {
   "cell_type": "markdown",
   "metadata": {},
   "source": [
    "### Part 1: Preprocess and visualize the data\n",
    "\n",
    " - Perform z-score standardization on the features to ensure that all features have the same scale.\n",
    " - Explain briefly why this is important.\n",
    " - For visualization, project the data to two dimensions by using principal component analysis (PCA).\n",
    " - **These PCs are solely used for plotting the data.** The clusterings are done on the original standardized features."
   ]
  },
  {
   "cell_type": "code",
   "execution_count": null,
   "metadata": {},
   "outputs": [],
   "source": [
    "# YOUR CODE\n",
    "# Z-score standardization\n",
    "scaler = StandardScaler()\n",
    "data_scaled = scaler.fit_transform(data)\n",
    "data_scaled_df = pd.DataFrame(data_scaled, columns=data.columns)\n",
    "\n",
    "# PCA for visualization\n",
    "pca = PCA(n_components=2)\n",
    "data_pca = pca.fit_transform(data_scaled)"
   ]
  },
  {
   "cell_type": "markdown",
   "metadata": {},
   "source": [
    "<div style=\"color: skyblue;\">\n",
    "YOUR ANSWER"
   ]
  },
  {
   "cell_type": "markdown",
   "metadata": {},
   "source": [
    " - Visualize the resulting two-dimensional data in a scatter plot.\n",
    " - Does it look like there are clear clusters? Don't worry if they're hard to see. There may be more than one \"correct\" answer.\n",
    " - Draw shapes (for example `matplotlib.patches.Ellipse`) on top of the scatter plot to visualize any clusters you feel you can easily detect."
   ]
  },
  {
   "cell_type": "code",
   "execution_count": null,
   "metadata": {},
   "outputs": [],
   "source": [
    "# YOUR CODE"
   ]
  },
  {
   "cell_type": "markdown",
   "metadata": {},
   "source": [
    "<div style=\"color: skyblue;\">\n",
    "YOUR ANSWER"
   ]
  },
  {
   "cell_type": "markdown",
   "metadata": {},
   "source": [
    "### Part 2a: Agglomerative hierarchical clustering theory\n",
    "Explain briefly the different linkage criterion values.\n",
    "- Single: <p style=\"color: skyblue;\">YOUR ANSWER</p>\n",
    "- Average: <p style=\"color: skyblue;\">YOUR ANSWER</p>\n",
    "- Complete: <p style=\"color: skyblue;\">YOUR ANSWER</p>\n",
    "- Ward: <p style=\"color: skyblue;\">YOUR ANSWER</p>"
   ]
  },
  {
   "cell_type": "markdown",
   "metadata": {},
   "source": [
    "Explain the **silhouette coefficient** (silhouette_score)."
   ]
  },
  {
   "cell_type": "markdown",
   "metadata": {},
   "source": [
    "<div style=\"color: skyblue;\">\n",
    "YOUR ANSWER"
   ]
  },
  {
   "cell_type": "code",
   "execution_count": null,
   "metadata": {},
   "outputs": [],
   "source": [
    "n = 2\n",
    "no_in = 100\n",
    "no_out = 500\n",
    "labels = np.concatenate((np.zeros(no_in), np.ones(no_out)))\n",
    "\n",
    "inner_cluster = np.random.randn(no_in, 2)*0.1\n",
    "theta = np.linspace(0, 2*np.pi, no_out)\n",
    "outer_cluster = np.array([np.cos(theta), np.sin(theta)]).T + np.random.randn(no_out, 2)*0.1\n",
    "data = np.vstack((inner_cluster, outer_cluster))\n",
    "\n",
    "score = silhouette_score(data, labels)\n",
    "\n",
    "plt.figure(figsize=(4, 4))\n",
    "plt.title(f'{n} clusters\\nSilhouette coefficient: {score:.3f}')\n",
    "for c in range(n):\n",
    "    plt.scatter(data[labels==c, 0], data[labels==c, 1], alpha=0.5)\n",
    "    \n",
    "plt.show()"
   ]
  },
  {
   "cell_type": "markdown",
   "metadata": {},
   "source": [
    "In the figure above, why is the silhouette coefficient close to zero even though the clusters are clearly distinct?\n",
    " \n",
    "(Optional) What would be a better way to assess this clustering?"
   ]
  },
  {
   "cell_type": "markdown",
   "metadata": {},
   "source": [
    " <div style=\"color: skyblue;\">YOUR ANSWER"
   ]
  },
  {
   "cell_type": "markdown",
   "metadata": {},
   "source": [
    "### Part 2b: Agglomerative hierarchical clustering practice"
   ]
  },
  {
   "cell_type": "markdown",
   "metadata": {},
   "source": [
    "Let's get back to the **seeds** dataset.\n",
    "\n",
    "Cluster the standardized data into 2-10 clusters using agglomerative hierarchical clustering.\n",
    "- Explore all combinations of the **number of clusters** (2-10) and the **linkage criteria**.\n",
    "- Calculate the silhouette coefficient for each combination and store the results, as well as the predictions made by the clustering.\n",
    "\n",
    "*Tip: you can use `itertools.product` function to get the Cartesian product of the two lists of hyperparameters (number of clusters, linkage criterion)*"
   ]
  },
  {
   "cell_type": "code",
   "execution_count": null,
   "metadata": {},
   "outputs": [],
   "source": [
    "# YOUR CODE"
   ]
  },
  {
   "cell_type": "markdown",
   "metadata": {},
   "source": [
    "- Use the silhouette score to determine the best linkage criterion for each number of clusters (2-10).\n",
    "- For each number of clusters, display the best linkage criterion and the silhouette score, sorted by the score (high to low) as follows:\n",
    "\n",
    "| Number of clusters | Linkage criterion | Silhouette score\n",
    "| --- | --- | ---   "
   ]
  },
  {
   "cell_type": "code",
   "execution_count": null,
   "metadata": {},
   "outputs": [],
   "source": [
    "# YOUR CODE"
   ]
  },
  {
   "cell_type": "markdown",
   "metadata": {},
   "source": [
    " - Plot four clusterings with **three clusters**, one of each **linkage criterion**, as scatter plots.\n",
    " - Again, use the first two PCs for visualization. \n",
    " - Colour the datapoints according to the clusters they were assigned to.\n",
    " - The structure of the plot is provided"
   ]
  },
  {
   "cell_type": "code",
   "execution_count": null,
   "metadata": {},
   "outputs": [],
   "source": [
    "# outline for the plots\n",
    "fig, axes = plt.subplots(2,2, figsize=(7,7))\n",
    "fig.suptitle(\"Three clusters\", fontsize=20)\n",
    "\n",
    "linkage_criteria = [\"single\", \"average\", \"complete\", \"ward\"]\n",
    "\n",
    "axes = axes.flatten() # creates a single array from a 2D-matrix\n",
    "\n",
    "for i, ax in enumerate(axes):\n",
    "    ax.scatter(x=None, y=None, c=None)\n",
    "    ax.set_title(f\"Linkage: {linkage_criteria[i]},\\nScore: {None}\")\n",
    "\n",
    "plt.tight_layout()"
   ]
  },
  {
   "cell_type": "markdown",
   "metadata": {},
   "source": [
    " - Similarly, from the clusterings using **'ward'** linkage criterion, plot the four clusterings of best performing **number of clusters** as scatter plots."
   ]
  },
  {
   "cell_type": "code",
   "execution_count": null,
   "metadata": {},
   "outputs": [],
   "source": [
    "# outline for the plots\n",
    "fig, axes = plt.subplots(2,2, figsize=(7,7))\n",
    "fig.suptitle(\"Four best clusterings using ward\", fontsize=20)\n",
    "\n",
    "axes = axes.flatten() # creates a single array from a 2D-matrix\n",
    "\n",
    "for i, ax in enumerate(axes):\n",
    "    ax.scatter(x=None, y=None, c=None)\n",
    "    ax.set_title(f\"Number of clusters: {None}\\nScore: {None}\")\n",
    "\n",
    "plt.tight_layout()"
   ]
  },
  {
   "cell_type": "markdown",
   "metadata": {},
   "source": [
    "Think about the clusters you see and how the choice of the linkage criterion and the number of clusters affected the formation of clusters. No need to write an answer."
   ]
  },
  {
   "cell_type": "markdown",
   "metadata": {},
   "source": [
    "Do some of the clusterings discovered by agglomerative hierarchical clustering correspond to what visually looked like clusters to you in Part 1? Which ones? It's absolutely fine if they don't.\n",
    "\n",
    "<div style=\"color: skyblue;\">\n",
    "YOUR ANSWER"
   ]
  },
  {
   "cell_type": "markdown",
   "metadata": {},
   "source": [
    "### Part 3: _k_-means clustering"
   ]
  },
  {
   "cell_type": "markdown",
   "metadata": {},
   "source": [
    "- Perform _k_-means clustering on the standardized data. Try 2-10 numbers of clusters.\n",
    "- Evaluate the clustering performance using the silhouette coefficient.\n",
    "- Store the centroids of the clusters"
   ]
  },
  {
   "cell_type": "code",
   "execution_count": null,
   "metadata": {},
   "outputs": [],
   "source": [
    "# YOUR CODE"
   ]
  },
  {
   "cell_type": "markdown",
   "metadata": {},
   "source": [
    " - Choose the four best numbers of clusters according to silhouette coefficient that you discovered above.\n",
    " - Once again visualize them on a scatter plot of the first two principal components.\n",
    " - Display the centroids of the clusters on the plot.\n",
    " - Remember to transform the centroids to the PCA space.\n",
    " - Explain why you need to transform the centroids."
   ]
  },
  {
   "cell_type": "markdown",
   "metadata": {},
   "source": [
    "<div style=\"color: skyblue;\">\n",
    "YOUR ANSWER"
   ]
  },
  {
   "cell_type": "code",
   "execution_count": null,
   "metadata": {},
   "outputs": [],
   "source": [
    "# outline for the plots\n",
    "fig, axes = plt.subplots(2,2, figsize=(7,7))\n",
    "fig.suptitle(\"Four best clusterings\", fontsize=20)\n",
    "\n",
    "axes = axes.flatten() # creates a single array from a 2D-matrix\n",
    "\n",
    "for i, ax in enumerate(axes):\n",
    "    ax.scatter(x=None, y=None) # clusters\n",
    "    ax.scatter(x=None, y=None) # centroids\n",
    "    ax.set_title(f\"Number of clusters: {None}\\nScore: {None}\")\n",
    "\n",
    "plt.tight_layout()"
   ]
  },
  {
   "cell_type": "markdown",
   "metadata": {},
   "source": [
    "### Part 4 (BONUS): Filling in missing labels using clustering\n",
    "\n",
    "In this bonus exercise, you're given a dataset with almost all of the labels missing. This is the starting point in semi-supervised learning. Semi-supervised learning in general is beyond the scope of this course, but if you want you can learn more about it, starting e.g. on [the sklearn page for semi-supervised learning](https://scikit-learn.org/stable/modules/semi_supervised.html). **This exercise does not require researching semi-supervised learning, however.**\n",
    "\n",
    "The dataset used in this exercise is a slightly modified version of [the wine dataset](https://archive.ics.uci.edu/dataset/109/wine). The features quantify chemical properties of wine, grown around the same area in Italy. They are divided to three different classes, simply called `1`, `2` and `3` here. The feature names and their data types are listed in the table below. **Use the modified dataset on Moodle, with the filename `wine_missing_labels.csv`**\n",
    "\n",
    "\n",
    "| Feature | Type \n",
    "| :--- | ---: \n",
    "| Alcohol | Numeric (float)\n",
    "| Malic acid | Numeric (float)\n",
    "| Ash | Numeric (float)\n",
    "| Alcalinity of ash | Numeric (float)\n",
    "| Magnesium | Numeric (integer)\n",
    "| Total phenols | Numeric (float)\n",
    "| Flavanoids | Numeric (float)\n",
    "| Nonflavanoid phenols | Numeric (float)\n",
    "| Proanthocyanins | Numeric (float)\n",
    "| Color intensity | Numeric (float)\n",
    "| Hue | Numeric (float)\n",
    "| OD280/OD315 of diluted wines | Numeric (float)\n",
    "| Proline | Numeric (integer)\n",
    "\n",
    "<br>\n",
    "\n",
    "First, visualize the first two principal components of the dataset in a scatter plot, showing the labels real for data points you were given. Try to see if the labels look like they belong in what look like clusters on the plot."
   ]
  },
  {
   "cell_type": "code",
   "execution_count": null,
   "metadata": {},
   "outputs": [],
   "source": [
    "# YOUR CODE"
   ]
  },
  {
   "cell_type": "markdown",
   "metadata": {},
   "source": [
    "<div style=\"color: skyblue;\">\n",
    "YOUR ANSWER"
   ]
  },
  {
   "cell_type": "markdown",
   "metadata": {},
   "source": [
    "Your task is to use clustering to assign labels to the rows that have a missing value as their label. Do this by first clustering all of the data, and then filling in the missing labels based on which clusters the data points with known labels tend to fit in. \n",
    "\n",
    "Use whichever clustering methods you prefer. You can cluster the data into 3 clusters because you have 3 known labels, but you could also try a higher number of clusters that you can then merge.\n",
    "\n",
    "The details of how exactly you decide which rows get assigned which label are up to you - you can get creative. Describe and justify your thought process.\n",
    "\n",
    "<br>\n",
    "\n",
    "You are also given the full labels for the dataset in a separate file called `wine_labels.csv`. Plot the real labels next to the labels that your clustering attempts predicted.\n",
    "\n",
    "Finally, compute the adjusted Rand index for labels predicted by your clustering solutions and the real labels, and display it along the scatter plots. Rand index is a measure of similarity between two partitions of a set of elements. Adjusted Rand index is corrected for chance using the maximum and expected values of Rand index. Optionally, you can learn more about the Rand index e.g. on [the Wikipedia page for Rand index](https://en.wikipedia.org/wiki/Rand_index). Here you can simply use the `sklearn.metrics.adjusted_rand_score` method imported at the beginning of this notebook without further understanding of it. \n",
    "\n",
    "*Hint: you should get something over 0.8*"
   ]
  },
  {
   "cell_type": "code",
   "execution_count": null,
   "metadata": {},
   "outputs": [],
   "source": [
    "# YOUR CODE"
   ]
  },
  {
   "cell_type": "markdown",
   "metadata": {},
   "source": [
    "<div style=\"color: skyblue;\">\n",
    "YOUR ANSWER"
   ]
  }
 ],
 "metadata": {
  "kernelspec": {
   "display_name": "Python 3",
   "language": "python",
   "name": "python3"
  },
  "language_info": {
   "codemirror_mode": {
    "name": "ipython",
    "version": 3
   },
   "file_extension": ".py",
   "mimetype": "text/x-python",
   "name": "python",
   "nbconvert_exporter": "python",
   "pygments_lexer": "ipython3",
   "version": "3.11.0"
  }
 },
 "nbformat": 4,
 "nbformat_minor": 4
}
